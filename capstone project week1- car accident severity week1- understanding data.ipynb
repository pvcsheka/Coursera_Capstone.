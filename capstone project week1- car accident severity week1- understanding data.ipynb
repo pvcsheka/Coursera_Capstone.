{
 "cells": [
  {
   "cell_type": "markdown",
   "metadata": {},
   "source": [
    "**Understanding Data**\n",
    "\n",
    "The dataset contains 194673 observations (rows) and 37 attributes (columns).\n",
    "\n",
    "Data cleansing is required as data being inconsistently updated for each incident and only relevant variables indicating cause  / influencing the incident are considered.   \n",
    "\n",
    "With Target variable being the severity of incidents is categorical,data modelling is  considered  using  a  classification  method. Mostly a SVM and/or Decision Tree Technique\n",
    "\n"
   ]
  },
  {
   "cell_type": "markdown",
   "metadata": {},
   "source": [
    "The data contains information pertaining to each collision , however missing data is significantly high in many fields, are not considered (not being cause of collision).\n",
    "For the critical variables, missing data rows are removed. (as the data set is significantly large and number of missing data in the final set are about ~5-6%).   \n",
    "\n",
    "Speeding  and  UnderInf variables are not considered based in the ratio of data units (compared with size of incident records).\n",
    "'\n",
    "The data contains  location of accidents  in variables like  <co-ordinates, Junction type, street /block address etc. From the analysis we find there are few streets with a higher number of collisions. Given  each incident is equally important   Although this is not high critical, we will consider only the \"junction type\"  in our data set. However, we will get visibility to specific block or intersection, location with higher number of incidents to make specific recommendation.(from Location data)\n",
    "\n",
    "**Data set also contains  conditions like road condition, weather and  lighting ( day or lights on) which play critical role in cause of collision.  We will consider these as critical variables. \n",
    "\n",
    "Data set includes other possible causes like  Speeding,  or under the influence .However the sighting of such is  relatively small in number \n",
    "•\t**Speeding**  ~9350  cases ( too small in compare to total number of cases)\n",
    "•\t**under influence**  ~9125 cases  with 75% of  incidents occurring during dusk/ night with street lights on.\n",
    "Assuming these are  possibly well-known causes already considered under traffic rules and law, **will be ignored from the data set.\n",
    "\n",
    "From the variable 'collision description', we observe handful of accidents are with parked vehicles (about 58000).This would call in for a specific recommendation to consider remediation to  avoid these cases. Like review Parking guidelines/ space  on the streets.\n",
    "\n",
    "**Our data set will contain  limited fields/ columns :   severity, junction type, road, weather, lighting conditions. \n",
    "\n",
    "week2 work will contain data model and code based on this descriptive analysis\n",
    "1. Data cleansing will be done accordingly.(covering all required date in to int or 1hot coding)\n",
    "2. A correlation map of the variables resulting/causing collision will  be developed. And a Histogram to visualize the insights and support recommendations : ex Parked vehicles,  speeding,  incident at intersections, location addess(with higher number of incidents)  etc.\n",
    "3. Data modelling with Decision Tree  and SVM  built\n",
    "4. Prediction and model accuracy evaluation will be done \n",
    "5. Visualization of data  is presented. \n"
   ]
  },
  {
   "cell_type": "markdown",
   "metadata": {},
   "source": []
  }
 ],
 "metadata": {
  "kernelspec": {
   "display_name": "Python 3.6",
   "language": "python",
   "name": "python3"
  },
  "language_info": {
   "codemirror_mode": {
    "name": "ipython",
    "version": 3
   },
   "file_extension": ".py",
   "mimetype": "text/x-python",
   "name": "python",
   "nbconvert_exporter": "python",
   "pygments_lexer": "ipython3",
   "version": "3.6.9"
  }
 },
 "nbformat": 4,
 "nbformat_minor": 1
}
