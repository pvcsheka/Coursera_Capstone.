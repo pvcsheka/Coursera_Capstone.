{
 "cells": [
  {
   "cell_type": "markdown",
   "metadata": {
    "collapsed": true
   },
   "source": [
    "**Business problem understanding**\n"
   ]
  },
  {
   "cell_type": "markdown",
   "metadata": {},
   "source": [
    "You are driving to another city on a rainy day. on the way, you come across a terrible traffic jam on the other side of the highway.  Oh, it is an accident and there's a helicopter transporting the ones involved in the crash to the nearest hospital. They must be in critical condition for all of this to be happening. \n",
    "\n",
    "Now, wouldn't it be great if there is something in place that could warn you, given the weather and the road conditions about the possibility of you getting into a car accident and how severe it would be, so that you would drive more carefully or even change your travel if you are able to.\n"
   ]
  },
  {
   "cell_type": "markdown",
   "metadata": {},
   "source": [
    "**Problem Sattement**"
   ]
  },
  {
   "cell_type": "markdown",
   "metadata": {},
   "source": [
    "The data from the city of California on incidents of collisions indicates very large number of accidents, resulting in injuries being significantly higher in numbers. Also the number of accidents is increasing year over year resulting in road safety concerns and damage to personal health and property. This report provide you details of conditions and factors responsible for collision incidents and methodology used in this research to prepare the findings and recommendations.\n",
    "\n",
    "From the data, the cause of collision incidents cover range of samples like hitting pedestrians, animals crossing, hitting on the rear of other vehicle, hitting parked vehicles etc.. reflects road/weather conditions having an influence with less control on braking, Light conditions.\n",
    "\n",
    "Also Data includes incidents due to (mostly due to driver behavior) like speeding, under the influence etc. also cause of accidents, again are augmented by the weather/ lighting conditions. Most of them occurring during night when street lights are on.\n",
    "\n",
    "While the existing traffic Law have defined guidelines for drivers to observe/follow rules to prevent collision incidents ( ex: speeding, under influence etc),"
   ]
  },
  {
   "cell_type": "markdown",
   "metadata": {},
   "source": [
    "**pROBLEM sTATEMENT**\n",
    "The data from the city of California on incidents of collisions indicates very large number of accidents, resulting in injuries being significantly higher in numbers. Also the number of accidents is increasing year over year resulting in road safety concerns and damage to personal health and property. This report provide you details of conditions and factors responsible for collision incidents and methodology used in this research to prepare the findings and recommendations.\n",
    "\n",
    "From the data, the cause of collision incidents cover range of samples like hitting pedestrians, animals crossing, hitting on the rear of other vehicle, hitting parked vehicles etc.. **reflects road/weather conditions having an influence** leading to less control on braking, Light conditions.\n",
    "\n",
    "Also Data includes incidents due to (mostly due to driver behavior) like speeding, under the influence etc. also cause of accidents, again are augmented by the weather/ lighting conditions. Most of them occurring during night when street lights are on.\n",
    "\n",
    "While the existing traffic Law have defined guidelines for drivers to observe/follow rules to prevent collision incidents ( ex: speeding, under influence etc)\n",
    "**preventing incidents as a result of weather/road/lighting condition requires new specific measures tocontrol and reduce the accidents**"
   ]
  },
  {
   "cell_type": "code",
   "execution_count": null,
   "metadata": {},
   "outputs": [],
   "source": []
  }
 ],
 "metadata": {
  "kernelspec": {
   "display_name": "Python 3.6",
   "language": "python",
   "name": "python3"
  },
  "language_info": {
   "codemirror_mode": {
    "name": "ipython",
    "version": 3
   },
   "file_extension": ".py",
   "mimetype": "text/x-python",
   "name": "python",
   "nbconvert_exporter": "python",
   "pygments_lexer": "ipython3",
   "version": "3.6.9"
  }
 },
 "nbformat": 4,
 "nbformat_minor": 1
}
