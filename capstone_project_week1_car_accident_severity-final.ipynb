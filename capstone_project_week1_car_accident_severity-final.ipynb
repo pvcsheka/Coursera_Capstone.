{
  "nbformat": 4,
  "nbformat_minor": 0,
  "metadata": {
    "kernelspec": {
      "display_name": "Python 3.6",
      "language": "python",
      "name": "python3"
    },
    "language_info": {
      "codemirror_mode": {
        "name": "ipython",
        "version": 3
      },
      "file_extension": ".py",
      "mimetype": "text/x-python",
      "name": "python",
      "nbconvert_exporter": "python",
      "pygments_lexer": "ipython3",
      "version": "3.6.9"
    },
    "colab": {
      "name": "capstone project week1- car accident severity(2).ipynb",
      "provenance": [],
      "collapsed_sections": []
    }
  },
  "cells": [
    {
      "cell_type": "markdown",
      "metadata": {
        "id": "1U-0swOHO9N4",
        "colab_type": "text"
      },
      "source": [
        "**CapStone project week 2:  Code for  collision data analysis and insights**\n",
        "\n",
        "Data source is provided by  coursera learning team, down laoded on my system"
      ]
    },
    {
      "cell_type": "code",
      "metadata": {
        "id": "avFvM2xwO9OW",
        "colab_type": "code",
        "colab": {
          "base_uri": "https://localhost:8080/",
          "height": 318
        },
        "outputId": "fab1fa9d-789f-434d-9290-ba86caa28ba9"
      },
      "source": [
        "!pip install -U pandasql"
      ],
      "execution_count": 1,
      "outputs": [
        {
          "output_type": "stream",
          "text": [
            "Collecting pandasql\n",
            "  Downloading https://files.pythonhosted.org/packages/6b/c4/ee4096ffa2eeeca0c749b26f0371bd26aa5c8b611c43de99a4f86d3de0a7/pandasql-0.7.3.tar.gz\n",
            "Requirement already satisfied, skipping upgrade: numpy in /usr/local/lib/python3.6/dist-packages (from pandasql) (1.18.5)\n",
            "Requirement already satisfied, skipping upgrade: pandas in /usr/local/lib/python3.6/dist-packages (from pandasql) (1.0.5)\n",
            "Requirement already satisfied, skipping upgrade: sqlalchemy in /usr/local/lib/python3.6/dist-packages (from pandasql) (1.3.19)\n",
            "Requirement already satisfied, skipping upgrade: python-dateutil>=2.6.1 in /usr/local/lib/python3.6/dist-packages (from pandas->pandasql) (2.8.1)\n",
            "Requirement already satisfied, skipping upgrade: pytz>=2017.2 in /usr/local/lib/python3.6/dist-packages (from pandas->pandasql) (2018.9)\n",
            "Requirement already satisfied, skipping upgrade: six>=1.5 in /usr/local/lib/python3.6/dist-packages (from python-dateutil>=2.6.1->pandas->pandasql) (1.15.0)\n",
            "Building wheels for collected packages: pandasql\n",
            "  Building wheel for pandasql (setup.py) ... \u001b[?25l\u001b[?25hdone\n",
            "  Created wheel for pandasql: filename=pandasql-0.7.3-cp36-none-any.whl size=26819 sha256=4ccf2f29b1671cf059c063feb1103a9020043d390f34ab5c4d51d2d571ba0635\n",
            "  Stored in directory: /root/.cache/pip/wheels/53/6c/18/b87a2e5fa8a82e9c026311de56210b8d1c01846e18a9607fc9\n",
            "Successfully built pandasql\n",
            "Installing collected packages: pandasql\n",
            "Successfully installed pandasql-0.7.3\n"
          ],
          "name": "stdout"
        }
      ]
    },
    {
      "cell_type": "markdown",
      "metadata": {
        "id": "Uku-dkdsO9Oz",
        "colab_type": "text"
      },
      "source": [
        "***Import Python, sklearn and plotting libraries***"
      ]
    },
    {
      "cell_type": "code",
      "metadata": {
        "id": "xwGALoLvO9O2",
        "colab_type": "code",
        "colab": {
          "base_uri": "https://localhost:8080/",
          "height": 112
        },
        "outputId": "9bb346c1-2e34-42af-b571-339a4083080d"
      },
      "source": [
        "#import all required libries ( for both SVM and  Decision tree Classification methods)\n",
        "import pandas as pd\n",
        "import numpy as np\n",
        "import pylab as pl\n",
        "import scipy.optimize as opt\n",
        "from sklearn.tree import DecisionTreeClassifier\n",
        "from sklearn import preprocessing\n",
        "from sklearn.model_selection import train_test_split\n",
        "from sklearn.externals.six import StringIO\n",
        "#import pydotplus\n",
        "import matplotlib.image as mpimage\n",
        "import matplotlib.pyplot as plt\n",
        "from sklearn import tree\n",
        "from sklearn import svm\n",
        "from sklearn.metrics import classification_report, confusion_matrix, f1_score,jaccard_similarity_score\n",
        "import seaborn as sns\n",
        "%matplotlib inline"
      ],
      "execution_count": 2,
      "outputs": [
        {
          "output_type": "stream",
          "text": [
            "/usr/local/lib/python3.6/dist-packages/sklearn/externals/six.py:31: FutureWarning: The module is deprecated in version 0.21 and will be removed in version 0.23 since we've dropped support for Python 2.7. Please rely on the official version of six (https://pypi.org/project/six/).\n",
            "  \"(https://pypi.org/project/six/).\", FutureWarning)\n",
            "/usr/local/lib/python3.6/dist-packages/statsmodels/tools/_testing.py:19: FutureWarning: pandas.util.testing is deprecated. Use the functions in the public API at pandas.testing instead.\n",
            "  import pandas.util.testing as tm\n"
          ],
          "name": "stderr"
        }
      ]
    },
    {
      "cell_type": "markdown",
      "metadata": {
        "id": "dA-8pWuRO9PG",
        "colab_type": "text"
      },
      "source": [
        "***Load the data file***"
      ]
    },
    {
      "cell_type": "code",
      "metadata": {
        "id": "upjcoFpIO9PK",
        "colab_type": "code",
        "colab": {
          "base_uri": "https://localhost:8080/",
          "height": 697
        },
        "outputId": "ed22a1a3-7db8-4093-8c0d-db76738db721"
      },
      "source": [
        "\n",
        "df = pd.read_csv(\"https://s3.us.cloud-object-storage.appdomain.cloud/cf-courses-data/CognitiveClass/DP0701EN/version-2/Data-Collisions.csv\")\n",
        "df.head()\n"
      ],
      "execution_count": 3,
      "outputs": [
        {
          "output_type": "stream",
          "text": [
            "/usr/local/lib/python3.6/dist-packages/IPython/core/interactiveshell.py:2718: DtypeWarning: Columns (33) have mixed types.Specify dtype option on import or set low_memory=False.\n",
            "  interactivity=interactivity, compiler=compiler, result=result)\n"
          ],
          "name": "stderr"
        },
        {
          "output_type": "execute_result",
          "data": {
            "text/html": [
              "<div>\n",
              "<style scoped>\n",
              "    .dataframe tbody tr th:only-of-type {\n",
              "        vertical-align: middle;\n",
              "    }\n",
              "\n",
              "    .dataframe tbody tr th {\n",
              "        vertical-align: top;\n",
              "    }\n",
              "\n",
              "    .dataframe thead th {\n",
              "        text-align: right;\n",
              "    }\n",
              "</style>\n",
              "<table border=\"1\" class=\"dataframe\">\n",
              "  <thead>\n",
              "    <tr style=\"text-align: right;\">\n",
              "      <th></th>\n",
              "      <th>SEVERITYCODE</th>\n",
              "      <th>X</th>\n",
              "      <th>Y</th>\n",
              "      <th>OBJECTID</th>\n",
              "      <th>INCKEY</th>\n",
              "      <th>COLDETKEY</th>\n",
              "      <th>REPORTNO</th>\n",
              "      <th>STATUS</th>\n",
              "      <th>ADDRTYPE</th>\n",
              "      <th>INTKEY</th>\n",
              "      <th>LOCATION</th>\n",
              "      <th>EXCEPTRSNCODE</th>\n",
              "      <th>EXCEPTRSNDESC</th>\n",
              "      <th>SEVERITYCODE.1</th>\n",
              "      <th>SEVERITYDESC</th>\n",
              "      <th>COLLISIONTYPE</th>\n",
              "      <th>PERSONCOUNT</th>\n",
              "      <th>PEDCOUNT</th>\n",
              "      <th>PEDCYLCOUNT</th>\n",
              "      <th>VEHCOUNT</th>\n",
              "      <th>INCDATE</th>\n",
              "      <th>INCDTTM</th>\n",
              "      <th>JUNCTIONTYPE</th>\n",
              "      <th>SDOT_COLCODE</th>\n",
              "      <th>SDOT_COLDESC</th>\n",
              "      <th>INATTENTIONIND</th>\n",
              "      <th>UNDERINFL</th>\n",
              "      <th>WEATHER</th>\n",
              "      <th>ROADCOND</th>\n",
              "      <th>LIGHTCOND</th>\n",
              "      <th>PEDROWNOTGRNT</th>\n",
              "      <th>SDOTCOLNUM</th>\n",
              "      <th>SPEEDING</th>\n",
              "      <th>ST_COLCODE</th>\n",
              "      <th>ST_COLDESC</th>\n",
              "      <th>SEGLANEKEY</th>\n",
              "      <th>CROSSWALKKEY</th>\n",
              "      <th>HITPARKEDCAR</th>\n",
              "    </tr>\n",
              "  </thead>\n",
              "  <tbody>\n",
              "    <tr>\n",
              "      <th>0</th>\n",
              "      <td>2</td>\n",
              "      <td>-122.323148</td>\n",
              "      <td>47.703140</td>\n",
              "      <td>1</td>\n",
              "      <td>1307</td>\n",
              "      <td>1307</td>\n",
              "      <td>3502005</td>\n",
              "      <td>Matched</td>\n",
              "      <td>Intersection</td>\n",
              "      <td>37475.0</td>\n",
              "      <td>5TH AVE NE AND NE 103RD ST</td>\n",
              "      <td></td>\n",
              "      <td>NaN</td>\n",
              "      <td>2</td>\n",
              "      <td>Injury Collision</td>\n",
              "      <td>Angles</td>\n",
              "      <td>2</td>\n",
              "      <td>0</td>\n",
              "      <td>0</td>\n",
              "      <td>2</td>\n",
              "      <td>2013/03/27 00:00:00+00</td>\n",
              "      <td>3/27/2013 2:54:00 PM</td>\n",
              "      <td>At Intersection (intersection related)</td>\n",
              "      <td>11</td>\n",
              "      <td>MOTOR VEHICLE STRUCK MOTOR VEHICLE, FRONT END ...</td>\n",
              "      <td>NaN</td>\n",
              "      <td>N</td>\n",
              "      <td>Overcast</td>\n",
              "      <td>Wet</td>\n",
              "      <td>Daylight</td>\n",
              "      <td>NaN</td>\n",
              "      <td>NaN</td>\n",
              "      <td>NaN</td>\n",
              "      <td>10</td>\n",
              "      <td>Entering at angle</td>\n",
              "      <td>0</td>\n",
              "      <td>0</td>\n",
              "      <td>N</td>\n",
              "    </tr>\n",
              "    <tr>\n",
              "      <th>1</th>\n",
              "      <td>1</td>\n",
              "      <td>-122.347294</td>\n",
              "      <td>47.647172</td>\n",
              "      <td>2</td>\n",
              "      <td>52200</td>\n",
              "      <td>52200</td>\n",
              "      <td>2607959</td>\n",
              "      <td>Matched</td>\n",
              "      <td>Block</td>\n",
              "      <td>NaN</td>\n",
              "      <td>AURORA BR BETWEEN RAYE ST AND BRIDGE WAY N</td>\n",
              "      <td>NaN</td>\n",
              "      <td>NaN</td>\n",
              "      <td>1</td>\n",
              "      <td>Property Damage Only Collision</td>\n",
              "      <td>Sideswipe</td>\n",
              "      <td>2</td>\n",
              "      <td>0</td>\n",
              "      <td>0</td>\n",
              "      <td>2</td>\n",
              "      <td>2006/12/20 00:00:00+00</td>\n",
              "      <td>12/20/2006 6:55:00 PM</td>\n",
              "      <td>Mid-Block (not related to intersection)</td>\n",
              "      <td>16</td>\n",
              "      <td>MOTOR VEHICLE STRUCK MOTOR VEHICLE, LEFT SIDE ...</td>\n",
              "      <td>NaN</td>\n",
              "      <td>0</td>\n",
              "      <td>Raining</td>\n",
              "      <td>Wet</td>\n",
              "      <td>Dark - Street Lights On</td>\n",
              "      <td>NaN</td>\n",
              "      <td>6354039.0</td>\n",
              "      <td>NaN</td>\n",
              "      <td>11</td>\n",
              "      <td>From same direction - both going straight - bo...</td>\n",
              "      <td>0</td>\n",
              "      <td>0</td>\n",
              "      <td>N</td>\n",
              "    </tr>\n",
              "    <tr>\n",
              "      <th>2</th>\n",
              "      <td>1</td>\n",
              "      <td>-122.334540</td>\n",
              "      <td>47.607871</td>\n",
              "      <td>3</td>\n",
              "      <td>26700</td>\n",
              "      <td>26700</td>\n",
              "      <td>1482393</td>\n",
              "      <td>Matched</td>\n",
              "      <td>Block</td>\n",
              "      <td>NaN</td>\n",
              "      <td>4TH AVE BETWEEN SENECA ST AND UNIVERSITY ST</td>\n",
              "      <td>NaN</td>\n",
              "      <td>NaN</td>\n",
              "      <td>1</td>\n",
              "      <td>Property Damage Only Collision</td>\n",
              "      <td>Parked Car</td>\n",
              "      <td>4</td>\n",
              "      <td>0</td>\n",
              "      <td>0</td>\n",
              "      <td>3</td>\n",
              "      <td>2004/11/18 00:00:00+00</td>\n",
              "      <td>11/18/2004 10:20:00 AM</td>\n",
              "      <td>Mid-Block (not related to intersection)</td>\n",
              "      <td>14</td>\n",
              "      <td>MOTOR VEHICLE STRUCK MOTOR VEHICLE, REAR END</td>\n",
              "      <td>NaN</td>\n",
              "      <td>0</td>\n",
              "      <td>Overcast</td>\n",
              "      <td>Dry</td>\n",
              "      <td>Daylight</td>\n",
              "      <td>NaN</td>\n",
              "      <td>4323031.0</td>\n",
              "      <td>NaN</td>\n",
              "      <td>32</td>\n",
              "      <td>One parked--one moving</td>\n",
              "      <td>0</td>\n",
              "      <td>0</td>\n",
              "      <td>N</td>\n",
              "    </tr>\n",
              "    <tr>\n",
              "      <th>3</th>\n",
              "      <td>1</td>\n",
              "      <td>-122.334803</td>\n",
              "      <td>47.604803</td>\n",
              "      <td>4</td>\n",
              "      <td>1144</td>\n",
              "      <td>1144</td>\n",
              "      <td>3503937</td>\n",
              "      <td>Matched</td>\n",
              "      <td>Block</td>\n",
              "      <td>NaN</td>\n",
              "      <td>2ND AVE BETWEEN MARION ST AND MADISON ST</td>\n",
              "      <td></td>\n",
              "      <td>NaN</td>\n",
              "      <td>1</td>\n",
              "      <td>Property Damage Only Collision</td>\n",
              "      <td>Other</td>\n",
              "      <td>3</td>\n",
              "      <td>0</td>\n",
              "      <td>0</td>\n",
              "      <td>3</td>\n",
              "      <td>2013/03/29 00:00:00+00</td>\n",
              "      <td>3/29/2013 9:26:00 AM</td>\n",
              "      <td>Mid-Block (not related to intersection)</td>\n",
              "      <td>11</td>\n",
              "      <td>MOTOR VEHICLE STRUCK MOTOR VEHICLE, FRONT END ...</td>\n",
              "      <td>NaN</td>\n",
              "      <td>N</td>\n",
              "      <td>Clear</td>\n",
              "      <td>Dry</td>\n",
              "      <td>Daylight</td>\n",
              "      <td>NaN</td>\n",
              "      <td>NaN</td>\n",
              "      <td>NaN</td>\n",
              "      <td>23</td>\n",
              "      <td>From same direction - all others</td>\n",
              "      <td>0</td>\n",
              "      <td>0</td>\n",
              "      <td>N</td>\n",
              "    </tr>\n",
              "    <tr>\n",
              "      <th>4</th>\n",
              "      <td>2</td>\n",
              "      <td>-122.306426</td>\n",
              "      <td>47.545739</td>\n",
              "      <td>5</td>\n",
              "      <td>17700</td>\n",
              "      <td>17700</td>\n",
              "      <td>1807429</td>\n",
              "      <td>Matched</td>\n",
              "      <td>Intersection</td>\n",
              "      <td>34387.0</td>\n",
              "      <td>SWIFT AVE S AND SWIFT AV OFF RP</td>\n",
              "      <td>NaN</td>\n",
              "      <td>NaN</td>\n",
              "      <td>2</td>\n",
              "      <td>Injury Collision</td>\n",
              "      <td>Angles</td>\n",
              "      <td>2</td>\n",
              "      <td>0</td>\n",
              "      <td>0</td>\n",
              "      <td>2</td>\n",
              "      <td>2004/01/28 00:00:00+00</td>\n",
              "      <td>1/28/2004 8:04:00 AM</td>\n",
              "      <td>At Intersection (intersection related)</td>\n",
              "      <td>11</td>\n",
              "      <td>MOTOR VEHICLE STRUCK MOTOR VEHICLE, FRONT END ...</td>\n",
              "      <td>NaN</td>\n",
              "      <td>0</td>\n",
              "      <td>Raining</td>\n",
              "      <td>Wet</td>\n",
              "      <td>Daylight</td>\n",
              "      <td>NaN</td>\n",
              "      <td>4028032.0</td>\n",
              "      <td>NaN</td>\n",
              "      <td>10</td>\n",
              "      <td>Entering at angle</td>\n",
              "      <td>0</td>\n",
              "      <td>0</td>\n",
              "      <td>N</td>\n",
              "    </tr>\n",
              "  </tbody>\n",
              "</table>\n",
              "</div>"
            ],
            "text/plain": [
              "   SEVERITYCODE           X          Y  ...  SEGLANEKEY  CROSSWALKKEY  HITPARKEDCAR\n",
              "0             2 -122.323148  47.703140  ...           0             0             N\n",
              "1             1 -122.347294  47.647172  ...           0             0             N\n",
              "2             1 -122.334540  47.607871  ...           0             0             N\n",
              "3             1 -122.334803  47.604803  ...           0             0             N\n",
              "4             2 -122.306426  47.545739  ...           0             0             N\n",
              "\n",
              "[5 rows x 38 columns]"
            ]
          },
          "metadata": {
            "tags": []
          },
          "execution_count": 3
        }
      ]
    },
    {
      "cell_type": "code",
      "metadata": {
        "id": "vSBVjpmHO9Pb",
        "colab_type": "code",
        "colab": {
          "base_uri": "https://localhost:8080/",
          "height": 36
        },
        "outputId": "091cfb1d-e785-41d1-d274-a8ba9b95514a"
      },
      "source": [
        "df.shape"
      ],
      "execution_count": 4,
      "outputs": [
        {
          "output_type": "execute_result",
          "data": {
            "text/plain": [
              "(194673, 38)"
            ]
          },
          "metadata": {
            "tags": []
          },
          "execution_count": 4
        }
      ]
    },
    {
      "cell_type": "code",
      "metadata": {
        "id": "tV0gK0DbO9Pt",
        "colab_type": "code",
        "colab": {
          "base_uri": "https://localhost:8080/",
          "height": 206
        },
        "outputId": "2ae90eb5-95b0-4952-cad8-adb57f0c6fe3"
      },
      "source": [
        "df_main = df[['SEVERITYCODE','WEATHER','ROADCOND','LIGHTCOND']]\n",
        "df_main.head(5)\n",
        "\n"
      ],
      "execution_count": 5,
      "outputs": [
        {
          "output_type": "execute_result",
          "data": {
            "text/html": [
              "<div>\n",
              "<style scoped>\n",
              "    .dataframe tbody tr th:only-of-type {\n",
              "        vertical-align: middle;\n",
              "    }\n",
              "\n",
              "    .dataframe tbody tr th {\n",
              "        vertical-align: top;\n",
              "    }\n",
              "\n",
              "    .dataframe thead th {\n",
              "        text-align: right;\n",
              "    }\n",
              "</style>\n",
              "<table border=\"1\" class=\"dataframe\">\n",
              "  <thead>\n",
              "    <tr style=\"text-align: right;\">\n",
              "      <th></th>\n",
              "      <th>SEVERITYCODE</th>\n",
              "      <th>WEATHER</th>\n",
              "      <th>ROADCOND</th>\n",
              "      <th>LIGHTCOND</th>\n",
              "    </tr>\n",
              "  </thead>\n",
              "  <tbody>\n",
              "    <tr>\n",
              "      <th>0</th>\n",
              "      <td>2</td>\n",
              "      <td>Overcast</td>\n",
              "      <td>Wet</td>\n",
              "      <td>Daylight</td>\n",
              "    </tr>\n",
              "    <tr>\n",
              "      <th>1</th>\n",
              "      <td>1</td>\n",
              "      <td>Raining</td>\n",
              "      <td>Wet</td>\n",
              "      <td>Dark - Street Lights On</td>\n",
              "    </tr>\n",
              "    <tr>\n",
              "      <th>2</th>\n",
              "      <td>1</td>\n",
              "      <td>Overcast</td>\n",
              "      <td>Dry</td>\n",
              "      <td>Daylight</td>\n",
              "    </tr>\n",
              "    <tr>\n",
              "      <th>3</th>\n",
              "      <td>1</td>\n",
              "      <td>Clear</td>\n",
              "      <td>Dry</td>\n",
              "      <td>Daylight</td>\n",
              "    </tr>\n",
              "    <tr>\n",
              "      <th>4</th>\n",
              "      <td>2</td>\n",
              "      <td>Raining</td>\n",
              "      <td>Wet</td>\n",
              "      <td>Daylight</td>\n",
              "    </tr>\n",
              "  </tbody>\n",
              "</table>\n",
              "</div>"
            ],
            "text/plain": [
              "   SEVERITYCODE   WEATHER ROADCOND                LIGHTCOND\n",
              "0             2  Overcast      Wet                 Daylight\n",
              "1             1   Raining      Wet  Dark - Street Lights On\n",
              "2             1  Overcast      Dry                 Daylight\n",
              "3             1     Clear      Dry                 Daylight\n",
              "4             2   Raining      Wet                 Daylight"
            ]
          },
          "metadata": {
            "tags": []
          },
          "execution_count": 5
        }
      ]
    },
    {
      "cell_type": "markdown",
      "metadata": {
        "id": "zaxyEavCO9P3",
        "colab_type": "text"
      },
      "source": [
        "***Identify the Missing data , Null or NaN Field***\n",
        "Notice that for the total size of data ( Number  of Rows), NaN entries are not siginificant. Hence ***we will remove these rows***"
      ]
    },
    {
      "cell_type": "code",
      "metadata": {
        "id": "WoR8LgOiO9P5",
        "colab_type": "code",
        "colab": {
          "base_uri": "https://localhost:8080/",
          "height": 73
        },
        "outputId": "02aa1459-fb5b-4b76-9db4-2e05b2835b03"
      },
      "source": [
        "print('NaN in Weather data:', df_main['WEATHER'].isnull().sum())\n",
        "print('NaN in Road condition data:', df_main['ROADCOND'].isnull().sum())\n",
        "print('NaN in Light condition data:', df_main['LIGHTCOND'].isnull().sum())"
      ],
      "execution_count": 6,
      "outputs": [
        {
          "output_type": "stream",
          "text": [
            "NaN in Weather data: 5081\n",
            "NaN in Road condition data: 5012\n",
            "NaN in Light condition data: 5170\n"
          ],
          "name": "stdout"
        }
      ]
    },
    {
      "cell_type": "code",
      "metadata": {
        "id": "wz04BlLYO9QF",
        "colab_type": "code",
        "colab": {}
      },
      "source": [
        "df_main = df_main.dropna()"
      ],
      "execution_count": 8,
      "outputs": []
    },
    {
      "cell_type": "code",
      "metadata": {
        "id": "QLh6PnW-O9QP",
        "colab_type": "code",
        "colab": {
          "base_uri": "https://localhost:8080/",
          "height": 36
        },
        "outputId": "4582f75c-87ec-4609-a3f5-67ecd10907b0"
      },
      "source": [
        "df_main.shape"
      ],
      "execution_count": 9,
      "outputs": [
        {
          "output_type": "execute_result",
          "data": {
            "text/plain": [
              "(189337, 4)"
            ]
          },
          "metadata": {
            "tags": []
          },
          "execution_count": 9
        }
      ]
    },
    {
      "cell_type": "markdown",
      "metadata": {
        "id": "1-JaICEnO9Qe",
        "colab_type": "text"
      },
      "source": [
        "***plot collisions vs road condition data to get insight, and influence of road on collision incidents***\n",
        "\n"
      ]
    },
    {
      "cell_type": "code",
      "metadata": {
        "id": "q7yl_Gl4kxeh",
        "colab_type": "code",
        "colab": {
          "base_uri": "https://localhost:8080/",
          "height": 331
        },
        "outputId": "a033825a-018d-4f0c-83bf-600c172855a0"
      },
      "source": [
        "from pandasql import sqldf\n",
        "dfroadcon= df_main[['ROADCOND','SEVERITYCODE']]\n",
        "output_roadcon1= sqldf(\"select ROADCOND , count(SEVERITYCODE) from dfroadcon where SEVERITYCODE = 2  group by ROADCOND \")\n",
        "output_roadcon2= sqldf(\"select ROADCOND , count(SEVERITYCODE) from dfroadcon  group by ROADCOND \")\n",
        "output_roadcon1"
      ],
      "execution_count": 13,
      "outputs": [
        {
          "output_type": "execute_result",
          "data": {
            "text/html": [
              "<div>\n",
              "<style scoped>\n",
              "    .dataframe tbody tr th:only-of-type {\n",
              "        vertical-align: middle;\n",
              "    }\n",
              "\n",
              "    .dataframe tbody tr th {\n",
              "        vertical-align: top;\n",
              "    }\n",
              "\n",
              "    .dataframe thead th {\n",
              "        text-align: right;\n",
              "    }\n",
              "</style>\n",
              "<table border=\"1\" class=\"dataframe\">\n",
              "  <thead>\n",
              "    <tr style=\"text-align: right;\">\n",
              "      <th></th>\n",
              "      <th>ROADCOND</th>\n",
              "      <th>count(SEVERITYCODE)</th>\n",
              "    </tr>\n",
              "  </thead>\n",
              "  <tbody>\n",
              "    <tr>\n",
              "      <th>0</th>\n",
              "      <td>Dry</td>\n",
              "      <td>40004</td>\n",
              "    </tr>\n",
              "    <tr>\n",
              "      <th>1</th>\n",
              "      <td>Ice</td>\n",
              "      <td>273</td>\n",
              "    </tr>\n",
              "    <tr>\n",
              "      <th>2</th>\n",
              "      <td>Oil</td>\n",
              "      <td>24</td>\n",
              "    </tr>\n",
              "    <tr>\n",
              "      <th>3</th>\n",
              "      <td>Other</td>\n",
              "      <td>43</td>\n",
              "    </tr>\n",
              "    <tr>\n",
              "      <th>4</th>\n",
              "      <td>Sand/Mud/Dirt</td>\n",
              "      <td>23</td>\n",
              "    </tr>\n",
              "    <tr>\n",
              "      <th>5</th>\n",
              "      <td>Snow/Slush</td>\n",
              "      <td>166</td>\n",
              "    </tr>\n",
              "    <tr>\n",
              "      <th>6</th>\n",
              "      <td>Standing Water</td>\n",
              "      <td>30</td>\n",
              "    </tr>\n",
              "    <tr>\n",
              "      <th>7</th>\n",
              "      <td>Unknown</td>\n",
              "      <td>747</td>\n",
              "    </tr>\n",
              "    <tr>\n",
              "      <th>8</th>\n",
              "      <td>Wet</td>\n",
              "      <td>15742</td>\n",
              "    </tr>\n",
              "  </tbody>\n",
              "</table>\n",
              "</div>"
            ],
            "text/plain": [
              "         ROADCOND  count(SEVERITYCODE)\n",
              "0             Dry                40004\n",
              "1             Ice                  273\n",
              "2             Oil                   24\n",
              "3           Other                   43\n",
              "4   Sand/Mud/Dirt                   23\n",
              "5      Snow/Slush                  166\n",
              "6  Standing Water                   30\n",
              "7         Unknown                  747\n",
              "8             Wet                15742"
            ]
          },
          "metadata": {
            "tags": []
          },
          "execution_count": 13
        }
      ]
    },
    {
      "cell_type": "markdown",
      "metadata": {
        "id": "OdzyYfuG1QOv",
        "colab_type": "text"
      },
      "source": [
        "***Drop  Less significant, unkown and other catagorical conditions***"
      ]
    },
    {
      "cell_type": "code",
      "metadata": {
        "id": "T3wZR_44gGhS",
        "colab_type": "code",
        "colab": {
          "base_uri": "https://localhost:8080/",
          "height": 343
        },
        "outputId": "5add4ec4-75de-48f0-9731-709d65561ac2"
      },
      "source": [
        "output_roadcon1.set_index(output_roadcon1['ROADCOND'],inplace=True)\n",
        "output_roadcon1 = output_roadcon1[pd.notnull(output_roadcon1[\"ROADCOND\"])]\n",
        "output_roadcon1.drop(columns={'ROADCOND'}, inplace=True)\n",
        "output_roadcon1.drop(['Oil', 'Other','Unknown','Standing Water','Sand/Mud/Dirt'],inplace=True)\n",
        "output_roadcon1.rename(columns={'count(SEVERITYCODE)':'colissions'},inplace=True)\n",
        "ax = output_roadcon1.plot.bar(y='colissions', title='collisions resulting in Injuries',rot=90)"
      ],
      "execution_count": 14,
      "outputs": [
        {
          "output_type": "display_data",
          "data": {
            "image/png": "[encoded data removed]",
            "text/plain": [
              "<Figure size 432x288 with 1 Axes>"
            ]
          },
          "metadata": {
            "tags": [],
            "needs_background": "light"
          }
        }
      ]
    },
    {
      "cell_type": "code",
      "metadata": {
        "id": "oRLtBsBPnXwO",
        "colab_type": "code",
        "colab": {}
      },
      "source": [
        "output_roadcon2.set_index(output_roadcon2['ROADCOND'],inplace=True)\n",
        "output_roadcon2 = output_roadcon2[pd.notnull(output_roadcon2[\"ROADCOND\"])]\n",
        "output_roadcon2.drop(columns={'ROADCOND'}, inplace=True)\n",
        "output_roadcon2.drop(['Oil', 'Other','Unknown','Standing Water','Sand/Mud/Dirt'],inplace=True)\n",
        "output_roadcon2.rename(columns={'count(SEVERITYCODE)':'colissions'},inplace=True)"
      ],
      "execution_count": 15,
      "outputs": []
    },
    {
      "cell_type": "code",
      "metadata": {
        "id": "A1njZ5L-z9dD",
        "colab_type": "code",
        "colab": {
          "base_uri": "https://localhost:8080/",
          "height": 343
        },
        "outputId": "48ec4dc2-7c48-48d7-8418-e148aae7ada0"
      },
      "source": [
        "ax = output_roadcon2.plot.bar(y='colissions', title='All collisions',rot=90)"
      ],
      "execution_count": 16,
      "outputs": [
        {
          "output_type": "display_data",
          "data": {
            "image/png": "[encoded data removed]",
            "text/plain": [
              "<Figure size 432x288 with 1 Axes>"
            ]
          },
          "metadata": {
            "tags": [],
            "needs_background": "light"
          }
        }
      ]
    },
    {
      "cell_type": "markdown",
      "metadata": {
        "id": "IREKyoUkO9R8",
        "colab_type": "text"
      },
      "source": [
        "***plot collisions vs Weather condition data to get insight, and influence of Weather  CONDITION on collision incidents***"
      ]
    },
    {
      "cell_type": "code",
      "metadata": {
        "id": "Zf00g3R7oKrR",
        "colab_type": "code",
        "colab": {
          "base_uri": "https://localhost:8080/",
          "height": 425
        },
        "outputId": "c63575bb-925e-422b-fa76-03680609cb1c"
      },
      "source": [
        "dfwether= df_main[['WEATHER','SEVERITYCODE']]\n",
        "output_weather1= sqldf(\"select WEATHER , count(SEVERITYCODE) from dfwether where SEVERITYCODE = 2  group by WEATHER \")\n",
        "output_weather2= sqldf(\"select WEATHER , count(SEVERITYCODE) from dfwether  group by WEATHER \")\n",
        "output_weather1.set_index(output_weather1['WEATHER'],inplace=True)\n",
        "output_weather1 = output_weather1[pd.notnull(output_weather1[\"WEATHER\"])]\n",
        "output_weather1.drop(columns={'WEATHER'}, inplace=True)\n",
        "output_weather1"
      ],
      "execution_count": 17,
      "outputs": [
        {
          "output_type": "execute_result",
          "data": {
            "text/html": [
              "<div>\n",
              "<style scoped>\n",
              "    .dataframe tbody tr th:only-of-type {\n",
              "        vertical-align: middle;\n",
              "    }\n",
              "\n",
              "    .dataframe tbody tr th {\n",
              "        vertical-align: top;\n",
              "    }\n",
              "\n",
              "    .dataframe thead th {\n",
              "        text-align: right;\n",
              "    }\n",
              "</style>\n",
              "<table border=\"1\" class=\"dataframe\">\n",
              "  <thead>\n",
              "    <tr style=\"text-align: right;\">\n",
              "      <th></th>\n",
              "      <th>count(SEVERITYCODE)</th>\n",
              "    </tr>\n",
              "    <tr>\n",
              "      <th>WEATHER</th>\n",
              "      <th></th>\n",
              "    </tr>\n",
              "  </thead>\n",
              "  <tbody>\n",
              "    <tr>\n",
              "      <th>Blowing Sand/Dirt</th>\n",
              "      <td>15</td>\n",
              "    </tr>\n",
              "    <tr>\n",
              "      <th>Clear</th>\n",
              "      <td>35808</td>\n",
              "    </tr>\n",
              "    <tr>\n",
              "      <th>Fog/Smog/Smoke</th>\n",
              "      <td>187</td>\n",
              "    </tr>\n",
              "    <tr>\n",
              "      <th>Other</th>\n",
              "      <td>116</td>\n",
              "    </tr>\n",
              "    <tr>\n",
              "      <th>Overcast</th>\n",
              "      <td>8739</td>\n",
              "    </tr>\n",
              "    <tr>\n",
              "      <th>Partly Cloudy</th>\n",
              "      <td>3</td>\n",
              "    </tr>\n",
              "    <tr>\n",
              "      <th>Raining</th>\n",
              "      <td>11168</td>\n",
              "    </tr>\n",
              "    <tr>\n",
              "      <th>Severe Crosswind</th>\n",
              "      <td>7</td>\n",
              "    </tr>\n",
              "    <tr>\n",
              "      <th>Sleet/Hail/Freezing Rain</th>\n",
              "      <td>28</td>\n",
              "    </tr>\n",
              "    <tr>\n",
              "      <th>Snowing</th>\n",
              "      <td>169</td>\n",
              "    </tr>\n",
              "    <tr>\n",
              "      <th>Unknown</th>\n",
              "      <td>812</td>\n",
              "    </tr>\n",
              "  </tbody>\n",
              "</table>\n",
              "</div>"
            ],
            "text/plain": [
              "                          count(SEVERITYCODE)\n",
              "WEATHER                                      \n",
              "Blowing Sand/Dirt                          15\n",
              "Clear                                   35808\n",
              "Fog/Smog/Smoke                            187\n",
              "Other                                     116\n",
              "Overcast                                 8739\n",
              "Partly Cloudy                               3\n",
              "Raining                                 11168\n",
              "Severe Crosswind                            7\n",
              "Sleet/Hail/Freezing Rain                   28\n",
              "Snowing                                   169\n",
              "Unknown                                   812"
            ]
          },
          "metadata": {
            "tags": []
          },
          "execution_count": 17
        }
      ]
    },
    {
      "cell_type": "markdown",
      "metadata": {
        "id": "o_N1_dOn03iS",
        "colab_type": "text"
      },
      "source": [
        "***Drop  Less significant, unkown and other catagorical conditions***"
      ]
    },
    {
      "cell_type": "code",
      "metadata": {
        "id": "iG6opaYfpOPa",
        "colab_type": "code",
        "colab": {
          "base_uri": "https://localhost:8080/",
          "height": 371
        },
        "outputId": "b41051a4-0d3b-4329-83dd-1771138b8e67"
      },
      "source": [
        "output_weather1.drop(['Blowing Sand/Dirt','Partly Cloudy', 'Other','Unknown','Sleet/Hail/Freezing Rain','Severe Crosswind'],inplace=True)\n",
        "output_weather1.rename(columns={'count(SEVERITYCODE)':'colissions'},inplace=True)\n",
        "ax = output_weather1.plot.bar(y='colissions', title='collisions resulting in Injuries',rot=90)"
      ],
      "execution_count": 18,
      "outputs": [
        {
          "output_type": "display_data",
          "data": {
            "image/png": "[encoded data removed]",
            "text/plain": [
              "<Figure size 432x288 with 1 Axes>"
            ]
          },
          "metadata": {
            "tags": [],
            "needs_background": "light"
          }
        }
      ]
    },
    {
      "cell_type": "code",
      "metadata": {
        "id": "bv1F9PAZqPZg",
        "colab_type": "code",
        "colab": {
          "base_uri": "https://localhost:8080/",
          "height": 371
        },
        "outputId": "6a168ce2-eccf-4e15-c902-eea2d9a95bf6"
      },
      "source": [
        "output_weather2.set_index(output_weather2['WEATHER'],inplace=True)\n",
        "output_weather2 = output_weather2[pd.notnull(output_weather2[\"WEATHER\"])]\n",
        "output_weather2.drop(columns={'WEATHER'}, inplace=True)\n",
        "output_weather2.drop(['Blowing Sand/Dirt','Partly Cloudy', 'Other','Unknown','Sleet/Hail/Freezing Rain','Severe Crosswind'],inplace=True)\n",
        "output_weather2.rename(columns={'count(SEVERITYCODE)':'colissions'},inplace=True)\n",
        "ax = output_weather2.plot.bar(y='colissions', title='All collisions',rot=90)"
      ],
      "execution_count": 19,
      "outputs": [
        {
          "output_type": "display_data",
          "data": {
            "image/png": "[encoded data removed]",
            "text/plain": [
              "<Figure size 432x288 with 1 Axes>"
            ]
          },
          "metadata": {
            "tags": [],
            "needs_background": "light"
          }
        }
      ]
    },
    {
      "cell_type": "markdown",
      "metadata": {
        "id": "TeHuDPwW0aOt",
        "colab_type": "text"
      },
      "source": [
        "***plot collisions vsLighting condition data to get insight, and influence of LIGHT  CONDITION on collision incidents***"
      ]
    },
    {
      "cell_type": "code",
      "metadata": {
        "id": "iNLL2zUTrPPn",
        "colab_type": "code",
        "colab": {
          "base_uri": "https://localhost:8080/",
          "height": 363
        },
        "outputId": "16b67e67-4fd2-4dd8-d4aa-aa19588d58b1"
      },
      "source": [
        "dflighting= df_main[['LIGHTCOND','SEVERITYCODE']]\n",
        "output_lighting1= sqldf(\"select LIGHTCOND , count(SEVERITYCODE) from dflighting where SEVERITYCODE = 2  group by LIGHTCOND \")\n",
        "output_lighting2= sqldf(\"select LIGHTCOND , count(SEVERITYCODE) from dflighting  group by LIGHTCOND \")\n",
        "output_lighting1.set_index(output_lighting1['LIGHTCOND'],inplace=True)\n",
        "output_lighting1 = output_lighting1[pd.notnull(output_lighting1[\"LIGHTCOND\"])]\n",
        "output_lighting1.drop(columns={'LIGHTCOND'}, inplace=True)\n",
        "output_lighting1"
      ],
      "execution_count": 20,
      "outputs": [
        {
          "output_type": "execute_result",
          "data": {
            "text/html": [
              "<div>\n",
              "<style scoped>\n",
              "    .dataframe tbody tr th:only-of-type {\n",
              "        vertical-align: middle;\n",
              "    }\n",
              "\n",
              "    .dataframe tbody tr th {\n",
              "        vertical-align: top;\n",
              "    }\n",
              "\n",
              "    .dataframe thead th {\n",
              "        text-align: right;\n",
              "    }\n",
              "</style>\n",
              "<table border=\"1\" class=\"dataframe\">\n",
              "  <thead>\n",
              "    <tr style=\"text-align: right;\">\n",
              "      <th></th>\n",
              "      <th>count(SEVERITYCODE)</th>\n",
              "    </tr>\n",
              "    <tr>\n",
              "      <th>LIGHTCOND</th>\n",
              "      <th></th>\n",
              "    </tr>\n",
              "  </thead>\n",
              "  <tbody>\n",
              "    <tr>\n",
              "      <th>Dark - No Street Lights</th>\n",
              "      <td>334</td>\n",
              "    </tr>\n",
              "    <tr>\n",
              "      <th>Dark - Street Lights Off</th>\n",
              "      <td>316</td>\n",
              "    </tr>\n",
              "    <tr>\n",
              "      <th>Dark - Street Lights On</th>\n",
              "      <td>14451</td>\n",
              "    </tr>\n",
              "    <tr>\n",
              "      <th>Dark - Unknown Lighting</th>\n",
              "      <td>4</td>\n",
              "    </tr>\n",
              "    <tr>\n",
              "      <th>Dawn</th>\n",
              "      <td>824</td>\n",
              "    </tr>\n",
              "    <tr>\n",
              "      <th>Daylight</th>\n",
              "      <td>38528</td>\n",
              "    </tr>\n",
              "    <tr>\n",
              "      <th>Dusk</th>\n",
              "      <td>1938</td>\n",
              "    </tr>\n",
              "    <tr>\n",
              "      <th>Other</th>\n",
              "      <td>52</td>\n",
              "    </tr>\n",
              "    <tr>\n",
              "      <th>Unknown</th>\n",
              "      <td>605</td>\n",
              "    </tr>\n",
              "  </tbody>\n",
              "</table>\n",
              "</div>"
            ],
            "text/plain": [
              "                          count(SEVERITYCODE)\n",
              "LIGHTCOND                                    \n",
              "Dark - No Street Lights                   334\n",
              "Dark - Street Lights Off                  316\n",
              "Dark - Street Lights On                 14451\n",
              "Dark - Unknown Lighting                     4\n",
              "Dawn                                      824\n",
              "Daylight                                38528\n",
              "Dusk                                     1938\n",
              "Other                                      52\n",
              "Unknown                                   605"
            ]
          },
          "metadata": {
            "tags": []
          },
          "execution_count": 20
        }
      ]
    },
    {
      "cell_type": "code",
      "metadata": {
        "id": "wKHHv0BssEGz",
        "colab_type": "code",
        "colab": {
          "base_uri": "https://localhost:8080/",
          "height": 401
        },
        "outputId": "3279c364-6072-4f67-c3ca-e2d8993bde3d"
      },
      "source": [
        "output_lighting1.drop(['Dark - Unknown Lighting','Other','Unknown'],inplace=True)\n",
        "output_lighting1.rename(columns={'count(SEVERITYCODE)':'colissions'},inplace=True)\n",
        "ax = output_lighting1.plot.bar(y='colissions', title='collisions resulting in Injuries',rot=90)"
      ],
      "execution_count": 21,
      "outputs": [
        {
          "output_type": "display_data",
          "data": {
            "image/png": "[encoded data removed]",
            "text/plain": [
              "<Figure size 432x288 with 1 Axes>"
            ]
          },
          "metadata": {
            "tags": [],
            "needs_background": "light"
          }
        }
      ]
    },
    {
      "cell_type": "code",
      "metadata": {
        "id": "-vltWQGarP1e",
        "colab_type": "code",
        "colab": {
          "base_uri": "https://localhost:8080/",
          "height": 401
        },
        "outputId": "ef54d7c3-acc9-4adc-96cf-0e24f1cbccc1"
      },
      "source": [
        "output_lighting2.set_index(output_lighting2['LIGHTCOND'],inplace=True)\n",
        "output_lighting2 = output_lighting2[pd.notnull(output_lighting2[\"LIGHTCOND\"])]\n",
        "output_lighting2.drop(columns={'LIGHTCOND'}, inplace=True)\n",
        "output_lighting2.drop(['Dark - Unknown Lighting','Other','Unknown'],inplace=True)\n",
        "output_lighting2.rename(columns={'count(SEVERITYCODE)':'colissions'},inplace=True)\n",
        "ax = output_lighting2.plot.bar(y='colissions', title='All collisions',rot=90)"
      ],
      "execution_count": 22,
      "outputs": [
        {
          "output_type": "display_data",
          "data": {
            "image/png": "[encoded data removed]",
            "text/plain": [
              "<Figure size 432x288 with 1 Axes>"
            ]
          },
          "metadata": {
            "tags": [],
            "needs_background": "light"
          }
        }
      ]
    },
    {
      "cell_type": "markdown",
      "metadata": {
        "id": "Bpxs8jr92x2H",
        "colab_type": "text"
      },
      "source": [
        "Below is the  insight of collision description:  Note 45% of all collisions are with Parked vehicle"
      ]
    },
    {
      "cell_type": "code",
      "metadata": {
        "id": "nUPxe0O4rQHQ",
        "colab_type": "code",
        "colab": {
          "base_uri": "https://localhost:8080/",
          "height": 241
        },
        "outputId": "613d05c5-8a1b-43d2-ef98-6ca130f6bae9"
      },
      "source": [
        "df['ST_COLDESC'].value_counts()\n"
      ],
      "execution_count": 23,
      "outputs": [
        {
          "output_type": "execute_result",
          "data": {
            "text/plain": [
              "One parked--one moving                                                 44421\n",
              "Entering at angle                                                      34674\n",
              "From same direction - both going straight - one stopped - rear-end     25771\n",
              "Fixed object                                                           13554\n",
              "From same direction - both going straight - both moving - sideswipe    12777\n",
              "                                                                       ...  \n",
              "Railway Vehicle Strikes Pedalcyclist                                       2\n",
              "Vehicle Strikes All Other Non-Domestic Animal                              2\n",
              "Vehicle Hits State Road or Construction Machinery                          1\n",
              "Vehicle Strikes Deer                                                       1\n",
              "Non-domestic animal (deer, bear, elk, etc)                                 1\n",
              "Name: ST_COLDESC, Length: 62, dtype: int64"
            ]
          },
          "metadata": {
            "tags": []
          },
          "execution_count": 23
        }
      ]
    },
    {
      "cell_type": "markdown",
      "metadata": {
        "id": "WLg6znSdO9TA",
        "colab_type": "text"
      },
      "source": [
        "**For the purpose of predection,  Lets consider Severity as \"Injury ro people\" as target variable, predict how the above catagorical values impact the  result. Meaning The probablility of Injury occuring\n",
        "we shall conver the  Value filed to 1 (if collision result in Injury) and 0 (Is collision result in Property Loss)**"
      ]
    },
    {
      "cell_type": "code",
      "metadata": {
        "id": "N4dBLdtlO9Sv",
        "colab_type": "code",
        "colab": {}
      },
      "source": [
        "count = df_main.shape[0]\n",
        "i=0;\n",
        "for i in range(count):\n",
        "    if df_main.at[i ,'SEVERITYCODE'] ==2:\n",
        "        df_main.at[i,'SEVERITYCODE'] = 1\n",
        "    elif df_main.at[i ,'SEVERITYCODE'] ==1:\n",
        "        df_main.at[i,'SEVERITYCODE'] = 0\n",
        "    else:\n",
        "        print ('error')"
      ],
      "execution_count": 20,
      "outputs": []
    },
    {
      "cell_type": "markdown",
      "metadata": {
        "id": "aTS1nN-nO9S2",
        "colab_type": "text"
      },
      "source": [
        "***We will use SVM for Prediction  and then easure the accuray.  First create the Train/Test data set***"
      ]
    },
    {
      "cell_type": "markdown",
      "metadata": {
        "id": "PHwAGc6_O9S4",
        "colab_type": "text"
      },
      "source": [
        "***List all catagorical value types of  WEATHER column. we will do this for other columns  LIGHTCOND and ROADCOND as well***\n",
        "***Note : we will remove values which are negligible in count , and/or unbele to use  ex: Unknown /Others***"
      ]
    },
    {
      "cell_type": "code",
      "metadata": {
        "id": "RxAyqO3VO9S4",
        "colab_type": "code",
        "colab": {
          "base_uri": "https://localhost:8080/",
          "height": 206
        },
        "outputId": "467b73b3-38ca-4a6b-a2fd-88ab38e0cc03"
      },
      "source": [
        "df_main = pd.get_dummies(df_main, columns=[\"WEATHER\"])\n",
        "df_main.drop([\"WEATHER_Other\",\"WEATHER_Blowing Sand/Dirt\",\"WEATHER_Partly Cloudy\",\"WEATHER_Severe Crosswind\",\"WEATHER_Unknown\",\"WEATHER_Sleet/Hail/Freezing Rain\"],axis=1, inplace = True)\n",
        "df_main.rename(columns={'WEATHER_Clear': 'Clearsky', 'WEATHER_Overcast': 'Overcast','WEATHER_Raining':'Raining','WEATHER_Snowing':'Snowing','WEATHER_Fog/Smog/Smoke':'Foggy'}, inplace = True)\n",
        "df_main.head()"
      ],
      "execution_count": 23,
      "outputs": [
        {
          "output_type": "execute_result",
          "data": {
            "text/html": [
              "<div>\n",
              "<style scoped>\n",
              "    .dataframe tbody tr th:only-of-type {\n",
              "        vertical-align: middle;\n",
              "    }\n",
              "\n",
              "    .dataframe tbody tr th {\n",
              "        vertical-align: top;\n",
              "    }\n",
              "\n",
              "    .dataframe thead th {\n",
              "        text-align: right;\n",
              "    }\n",
              "</style>\n",
              "<table border=\"1\" class=\"dataframe\">\n",
              "  <thead>\n",
              "    <tr style=\"text-align: right;\">\n",
              "      <th></th>\n",
              "      <th>SEVERITYCODE</th>\n",
              "      <th>ROADCOND</th>\n",
              "      <th>LIGHTCOND</th>\n",
              "      <th>Clearsky</th>\n",
              "      <th>Foggy</th>\n",
              "      <th>Overcast</th>\n",
              "      <th>Raining</th>\n",
              "      <th>Snowing</th>\n",
              "    </tr>\n",
              "  </thead>\n",
              "  <tbody>\n",
              "    <tr>\n",
              "      <th>0</th>\n",
              "      <td>1</td>\n",
              "      <td>Wet</td>\n",
              "      <td>Daylight</td>\n",
              "      <td>0</td>\n",
              "      <td>0</td>\n",
              "      <td>1</td>\n",
              "      <td>0</td>\n",
              "      <td>0</td>\n",
              "    </tr>\n",
              "    <tr>\n",
              "      <th>1</th>\n",
              "      <td>0</td>\n",
              "      <td>Wet</td>\n",
              "      <td>Dark - Street Lights On</td>\n",
              "      <td>0</td>\n",
              "      <td>0</td>\n",
              "      <td>0</td>\n",
              "      <td>1</td>\n",
              "      <td>0</td>\n",
              "    </tr>\n",
              "    <tr>\n",
              "      <th>2</th>\n",
              "      <td>0</td>\n",
              "      <td>Dry</td>\n",
              "      <td>Daylight</td>\n",
              "      <td>0</td>\n",
              "      <td>0</td>\n",
              "      <td>1</td>\n",
              "      <td>0</td>\n",
              "      <td>0</td>\n",
              "    </tr>\n",
              "    <tr>\n",
              "      <th>3</th>\n",
              "      <td>0</td>\n",
              "      <td>Dry</td>\n",
              "      <td>Daylight</td>\n",
              "      <td>1</td>\n",
              "      <td>0</td>\n",
              "      <td>0</td>\n",
              "      <td>0</td>\n",
              "      <td>0</td>\n",
              "    </tr>\n",
              "    <tr>\n",
              "      <th>4</th>\n",
              "      <td>1</td>\n",
              "      <td>Wet</td>\n",
              "      <td>Daylight</td>\n",
              "      <td>0</td>\n",
              "      <td>0</td>\n",
              "      <td>0</td>\n",
              "      <td>1</td>\n",
              "      <td>0</td>\n",
              "    </tr>\n",
              "  </tbody>\n",
              "</table>\n",
              "</div>"
            ],
            "text/plain": [
              "   SEVERITYCODE ROADCOND                LIGHTCOND  ...  Overcast  Raining  Snowing\n",
              "0             1      Wet                 Daylight  ...         1        0        0\n",
              "1             0      Wet  Dark - Street Lights On  ...         0        1        0\n",
              "2             0      Dry                 Daylight  ...         1        0        0\n",
              "3             0      Dry                 Daylight  ...         0        0        0\n",
              "4             1      Wet                 Daylight  ...         0        1        0\n",
              "\n",
              "[5 rows x 8 columns]"
            ]
          },
          "metadata": {
            "tags": []
          },
          "execution_count": 23
        }
      ]
    },
    {
      "cell_type": "markdown",
      "metadata": {
        "id": "_PBEQSRMO9Po",
        "colab_type": "text"
      },
      "source": [
        "***Note: Data has 38 variables, however we will consider the critical variables that impact the target and the problem***\n",
        "Also observe that  all these variables are ***Catagorical*** in values.  We will apply ***One Hot Encoding*** while cleaning and preparing data for data model"
      ]
    },
    {
      "cell_type": "code",
      "metadata": {
        "id": "DqisCXPVO9TC",
        "colab_type": "code",
        "colab": {
          "base_uri": "https://localhost:8080/",
          "height": 393
        },
        "outputId": "34c731b4-a1a8-4e88-ba25-97ce57838597"
      },
      "source": [
        "print('Lighting conditions:', df_main['LIGHTCOND'].value_counts())\n",
        "df_main = pd.get_dummies(df_main, columns=[\"LIGHTCOND\"])\n",
        "df_main.drop([\"LIGHTCOND_Other\",\"LIGHTCOND_Unknown\",\"LIGHTCOND_Dark - Unknown Lighting\"],axis=1, inplace = True)\n",
        "df_main.rename(columns={'LIGHTCOND_Daylight': 'Daylight', 'LIGHTCOND_Dusk': 'Dusk','LIGHTCOND_Dark - Street Lights On':'Dark & Street Lighton','LIGHTCOND_Dawn': 'Dawn'}, inplace = True)\n",
        "df_main['Dark-nolights'] = df_main[ \"LIGHTCOND_Dark - Street Lights Off\"] + df_main[\"LIGHTCOND_Dark - No Street Lights\"]\n",
        "df_main.drop([\"LIGHTCOND_Dark - Street Lights Off\",\"LIGHTCOND_Dark - No Street Lights\"],axis=1, inplace = True)\n",
        "df_main.head()"
      ],
      "execution_count": 176,
      "outputs": [
        {
          "output_type": "stream",
          "text": [
            "Lighting conditions: Daylight                    116077\n",
            "Dark - Street Lights On      48440\n",
            "Unknown                      13456\n",
            "Dusk                          5889\n",
            "Dawn                          2502\n",
            "Dark - No Street Lights       1535\n",
            "Dark - Street Lights Off      1192\n",
            "Other                          235\n",
            "Dark - Unknown Lighting         11\n",
            "Name: LIGHTCOND, dtype: int64\n"
          ],
          "name": "stdout"
        },
        {
          "output_type": "execute_result",
          "data": {
            "text/html": [
              "<div>\n",
              "<style scoped>\n",
              "    .dataframe tbody tr th:only-of-type {\n",
              "        vertical-align: middle;\n",
              "    }\n",
              "\n",
              "    .dataframe tbody tr th {\n",
              "        vertical-align: top;\n",
              "    }\n",
              "\n",
              "    .dataframe thead th {\n",
              "        text-align: right;\n",
              "    }\n",
              "</style>\n",
              "<table border=\"1\" class=\"dataframe\">\n",
              "  <thead>\n",
              "    <tr style=\"text-align: right;\">\n",
              "      <th></th>\n",
              "      <th>SEVERITYCODE</th>\n",
              "      <th>WEATHER</th>\n",
              "      <th>ROADCOND</th>\n",
              "      <th>Dark &amp; Street Lighton</th>\n",
              "      <th>Dawn</th>\n",
              "      <th>Daylight</th>\n",
              "      <th>Dusk</th>\n",
              "      <th>Dark-nolights</th>\n",
              "    </tr>\n",
              "  </thead>\n",
              "  <tbody>\n",
              "    <tr>\n",
              "      <th>0</th>\n",
              "      <td>2</td>\n",
              "      <td>Overcast</td>\n",
              "      <td>Wet</td>\n",
              "      <td>0</td>\n",
              "      <td>0</td>\n",
              "      <td>1</td>\n",
              "      <td>0</td>\n",
              "      <td>0</td>\n",
              "    </tr>\n",
              "    <tr>\n",
              "      <th>1</th>\n",
              "      <td>1</td>\n",
              "      <td>Raining</td>\n",
              "      <td>Wet</td>\n",
              "      <td>1</td>\n",
              "      <td>0</td>\n",
              "      <td>0</td>\n",
              "      <td>0</td>\n",
              "      <td>0</td>\n",
              "    </tr>\n",
              "    <tr>\n",
              "      <th>2</th>\n",
              "      <td>1</td>\n",
              "      <td>Overcast</td>\n",
              "      <td>Dry</td>\n",
              "      <td>0</td>\n",
              "      <td>0</td>\n",
              "      <td>1</td>\n",
              "      <td>0</td>\n",
              "      <td>0</td>\n",
              "    </tr>\n",
              "    <tr>\n",
              "      <th>3</th>\n",
              "      <td>1</td>\n",
              "      <td>Clear</td>\n",
              "      <td>Dry</td>\n",
              "      <td>0</td>\n",
              "      <td>0</td>\n",
              "      <td>1</td>\n",
              "      <td>0</td>\n",
              "      <td>0</td>\n",
              "    </tr>\n",
              "    <tr>\n",
              "      <th>4</th>\n",
              "      <td>2</td>\n",
              "      <td>Raining</td>\n",
              "      <td>Wet</td>\n",
              "      <td>0</td>\n",
              "      <td>0</td>\n",
              "      <td>1</td>\n",
              "      <td>0</td>\n",
              "      <td>0</td>\n",
              "    </tr>\n",
              "  </tbody>\n",
              "</table>\n",
              "</div>"
            ],
            "text/plain": [
              "   SEVERITYCODE   WEATHER ROADCOND  ...  Daylight  Dusk  Dark-nolights\n",
              "0             2  Overcast      Wet  ...         1     0              0\n",
              "1             1   Raining      Wet  ...         0     0              0\n",
              "2             1  Overcast      Dry  ...         1     0              0\n",
              "3             1     Clear      Dry  ...         1     0              0\n",
              "4             2   Raining      Wet  ...         1     0              0\n",
              "\n",
              "[5 rows x 8 columns]"
            ]
          },
          "metadata": {
            "tags": []
          },
          "execution_count": 176
        }
      ]
    },
    {
      "cell_type": "code",
      "metadata": {
        "id": "VKo5tGTVO9TI",
        "colab_type": "code",
        "colab": {
          "base_uri": "https://localhost:8080/",
          "height": 241
        },
        "outputId": "9ef08f44-5ee8-4aaa-994a-328b5d1284b0"
      },
      "source": [
        "df_main['ROADCOND'].value_counts()\n",
        "df_main = pd.get_dummies(df_main, columns=[\"ROADCOND\"])\n",
        "df_main.drop([\"ROADCOND_Other\",\"ROADCOND_Unknown\",\"ROADCOND_Standing Water\",\"ROADCOND_Oil\",\"ROADCOND_Sand/Mud/Dirt\"],axis=1, inplace = True)\n",
        "df_main.rename(columns={'ROADCOND_Dry': 'Dry Road', 'ROADCOND_Ice': 'Icy Road', 'ROADCOND_Wet': 'Wet Road','ROADCOND_Snow/Slush': 'Slushy Road'}, inplace =True)\n",
        "df_main.head()"
      ],
      "execution_count": 25,
      "outputs": [
        {
          "output_type": "execute_result",
          "data": {
            "text/html": [
              "<div>\n",
              "<style scoped>\n",
              "    .dataframe tbody tr th:only-of-type {\n",
              "        vertical-align: middle;\n",
              "    }\n",
              "\n",
              "    .dataframe tbody tr th {\n",
              "        vertical-align: top;\n",
              "    }\n",
              "\n",
              "    .dataframe thead th {\n",
              "        text-align: right;\n",
              "    }\n",
              "</style>\n",
              "<table border=\"1\" class=\"dataframe\">\n",
              "  <thead>\n",
              "    <tr style=\"text-align: right;\">\n",
              "      <th></th>\n",
              "      <th>SEVERITYCODE</th>\n",
              "      <th>Clearsky</th>\n",
              "      <th>Foggy</th>\n",
              "      <th>Overcast</th>\n",
              "      <th>Raining</th>\n",
              "      <th>Snowing</th>\n",
              "      <th>Dark &amp; Street Lighton</th>\n",
              "      <th>Dawn</th>\n",
              "      <th>Daylight</th>\n",
              "      <th>Dusk</th>\n",
              "      <th>Dark-nolights</th>\n",
              "      <th>Dry Road</th>\n",
              "      <th>Icy Road</th>\n",
              "      <th>Slushy Road</th>\n",
              "      <th>Wet Road</th>\n",
              "    </tr>\n",
              "  </thead>\n",
              "  <tbody>\n",
              "    <tr>\n",
              "      <th>0</th>\n",
              "      <td>1</td>\n",
              "      <td>0</td>\n",
              "      <td>0</td>\n",
              "      <td>1</td>\n",
              "      <td>0</td>\n",
              "      <td>0</td>\n",
              "      <td>0</td>\n",
              "      <td>0</td>\n",
              "      <td>1</td>\n",
              "      <td>0</td>\n",
              "      <td>0</td>\n",
              "      <td>0</td>\n",
              "      <td>0</td>\n",
              "      <td>0</td>\n",
              "      <td>1</td>\n",
              "    </tr>\n",
              "    <tr>\n",
              "      <th>1</th>\n",
              "      <td>0</td>\n",
              "      <td>0</td>\n",
              "      <td>0</td>\n",
              "      <td>0</td>\n",
              "      <td>1</td>\n",
              "      <td>0</td>\n",
              "      <td>1</td>\n",
              "      <td>0</td>\n",
              "      <td>0</td>\n",
              "      <td>0</td>\n",
              "      <td>0</td>\n",
              "      <td>0</td>\n",
              "      <td>0</td>\n",
              "      <td>0</td>\n",
              "      <td>1</td>\n",
              "    </tr>\n",
              "    <tr>\n",
              "      <th>2</th>\n",
              "      <td>0</td>\n",
              "      <td>0</td>\n",
              "      <td>0</td>\n",
              "      <td>1</td>\n",
              "      <td>0</td>\n",
              "      <td>0</td>\n",
              "      <td>0</td>\n",
              "      <td>0</td>\n",
              "      <td>1</td>\n",
              "      <td>0</td>\n",
              "      <td>0</td>\n",
              "      <td>1</td>\n",
              "      <td>0</td>\n",
              "      <td>0</td>\n",
              "      <td>0</td>\n",
              "    </tr>\n",
              "    <tr>\n",
              "      <th>3</th>\n",
              "      <td>0</td>\n",
              "      <td>1</td>\n",
              "      <td>0</td>\n",
              "      <td>0</td>\n",
              "      <td>0</td>\n",
              "      <td>0</td>\n",
              "      <td>0</td>\n",
              "      <td>0</td>\n",
              "      <td>1</td>\n",
              "      <td>0</td>\n",
              "      <td>0</td>\n",
              "      <td>1</td>\n",
              "      <td>0</td>\n",
              "      <td>0</td>\n",
              "      <td>0</td>\n",
              "    </tr>\n",
              "    <tr>\n",
              "      <th>4</th>\n",
              "      <td>1</td>\n",
              "      <td>0</td>\n",
              "      <td>0</td>\n",
              "      <td>0</td>\n",
              "      <td>1</td>\n",
              "      <td>0</td>\n",
              "      <td>0</td>\n",
              "      <td>0</td>\n",
              "      <td>1</td>\n",
              "      <td>0</td>\n",
              "      <td>0</td>\n",
              "      <td>0</td>\n",
              "      <td>0</td>\n",
              "      <td>0</td>\n",
              "      <td>1</td>\n",
              "    </tr>\n",
              "  </tbody>\n",
              "</table>\n",
              "</div>"
            ],
            "text/plain": [
              "   SEVERITYCODE  Clearsky  Foggy  ...  Icy Road  Slushy Road  Wet Road\n",
              "0             1         0      0  ...         0            0         1\n",
              "1             0         0      0  ...         0            0         1\n",
              "2             0         0      0  ...         0            0         0\n",
              "3             0         1      0  ...         0            0         0\n",
              "4             1         0      0  ...         0            0         1\n",
              "\n",
              "[5 rows x 15 columns]"
            ]
          },
          "metadata": {
            "tags": []
          },
          "execution_count": 25
        }
      ]
    },
    {
      "cell_type": "code",
      "metadata": {
        "id": "l1MA0_pbO9Tl",
        "colab_type": "code",
        "colab": {
          "base_uri": "https://localhost:8080/",
          "height": 92
        },
        "outputId": "2c9fb1f0-47d9-4c15-91ec-6f2828cf0b4f"
      },
      "source": [
        "df_main.columns"
      ],
      "execution_count": 26,
      "outputs": [
        {
          "output_type": "execute_result",
          "data": {
            "text/plain": [
              "Index(['SEVERITYCODE', 'Clearsky', 'Foggy', 'Overcast', 'Raining', 'Snowing',\n",
              "       'Dark & Street Lighton', 'Dawn', 'Daylight', 'Dusk', 'Dark-nolights',\n",
              "       'Dry Road', 'Icy Road', 'Slushy Road', 'Wet Road'],\n",
              "      dtype='object')"
            ]
          },
          "metadata": {
            "tags": []
          },
          "execution_count": 26
        }
      ]
    },
    {
      "cell_type": "code",
      "metadata": {
        "id": "NiZtIN1FO9Tx",
        "colab_type": "code",
        "colab": {
          "base_uri": "https://localhost:8080/",
          "height": 54
        },
        "outputId": "57d65a96-6b83-4155-cb30-b9030a9f42a1"
      },
      "source": [
        "X = np.asarray(df_main[['Clearsky','Foggy','Overcast','Raining','Snowing','Dark & Street Lighton','Dawn','Daylight','Dusk','Dark-nolights','Dry Road','Icy Road','Slushy Road','Wet Road']])\n",
        "y=np.asarray(df_main[['SEVERITYCODE']])\n",
        "\n",
        "X_train, X_test, y_train, y_test = train_test_split( X, y, test_size=0.3, random_state=4)\n",
        "print ('Train set:', X_train.shape,  y_train.shape)\n",
        "print ('Test set:', X_test.shape,  y_test.shape)\n"
      ],
      "execution_count": 27,
      "outputs": [
        {
          "output_type": "stream",
          "text": [
            "Train set: (136271, 14) (136271, 1)\n",
            "Test set: (58402, 14) (58402, 1)\n"
          ],
          "name": "stdout"
        }
      ]
    },
    {
      "cell_type": "code",
      "metadata": {
        "id": "YSsByI78O9T5",
        "colab_type": "code",
        "colab": {
          "base_uri": "https://localhost:8080/",
          "height": 93
        },
        "outputId": "57ea6143-a3e1-45f4-b80c-193fea34a5bb"
      },
      "source": [
        "# Apply the SVM model\n",
        "model= svm.SVC(kernel='poly', degree=3)\n",
        "model.fit(X_train, y_train) \n",
        "\n",
        "yhat = model.predict(X_test)\n",
        "yhat[0:5]\n"
      ],
      "execution_count": 28,
      "outputs": [
        {
          "output_type": "stream",
          "text": [
            "/usr/local/lib/python3.6/dist-packages/sklearn/utils/validation.py:760: DataConversionWarning: A column-vector y was passed when a 1d array was expected. Please change the shape of y to (n_samples, ), for example using ravel().\n",
            "  y = column_or_1d(y, warn=True)\n"
          ],
          "name": "stderr"
        },
        {
          "output_type": "execute_result",
          "data": {
            "text/plain": [
              "array([0, 0, 0, 0, 0])"
            ]
          },
          "metadata": {
            "tags": []
          },
          "execution_count": 28
        }
      ]
    },
    {
      "cell_type": "markdown",
      "metadata": {
        "id": "wO6sGMoMO9UH",
        "colab_type": "text"
      },
      "source": [
        "*** Evaluate the Model using  F1_score and Jaccard Similarity***"
      ]
    },
    {
      "cell_type": "code",
      "metadata": {
        "id": "xB-8rb3iO9UI",
        "colab_type": "code",
        "colab": {
          "base_uri": "https://localhost:8080/",
          "height": 36
        },
        "outputId": "a640dbfe-2dd2-4202-cd72-e65e0b98b750"
      },
      "source": [
        "f1_score(y_test,yhat, average='weighted')"
      ],
      "execution_count": 29,
      "outputs": [
        {
          "output_type": "execute_result",
          "data": {
            "text/plain": [
              "0.5810305023295638"
            ]
          },
          "metadata": {
            "tags": []
          },
          "execution_count": 29
        }
      ]
    },
    {
      "cell_type": "code",
      "metadata": {
        "id": "25bp8ldWO9UO",
        "colab_type": "code",
        "colab": {
          "base_uri": "https://localhost:8080/",
          "height": 93
        },
        "outputId": "43cfbec6-ae07-4464-a1e1-a21e8163f399"
      },
      "source": [
        "jaccard_similarity_score(y_test,yhat)"
      ],
      "execution_count": 30,
      "outputs": [
        {
          "output_type": "stream",
          "text": [
            "/usr/local/lib/python3.6/dist-packages/sklearn/metrics/_classification.py:664: FutureWarning: jaccard_similarity_score has been deprecated and replaced with jaccard_score. It will be removed in version 0.23. This implementation has surprising behavior for binary and multiclass classification tasks.\n",
            "  FutureWarning)\n"
          ],
          "name": "stderr"
        },
        {
          "output_type": "execute_result",
          "data": {
            "text/plain": [
              "0.7034690592787918"
            ]
          },
          "metadata": {
            "tags": []
          },
          "execution_count": 30
        }
      ]
    },
    {
      "cell_type": "markdown",
      "metadata": {
        "id": "8a1C7Cqh3YnU",
        "colab_type": "text"
      },
      "source": [
        "TRY   Decision Tree : Retuns the same values  for accuracy like in SVM"
      ]
    },
    {
      "cell_type": "code",
      "metadata": {
        "id": "ii4QcFQWO9UV",
        "colab_type": "code",
        "colab": {}
      },
      "source": [
        "Dtree =DecisionTreeClassifier(criterion=\"entropy\", max_depth =6)\n",
        "Dtree.fit(X_train,y_train)\n",
        "yhattree = Dtree.predict(X_test)\n"
      ],
      "execution_count": null,
      "outputs": []
    },
    {
      "cell_type": "code",
      "metadata": {
        "id": "6fkF7m5_O9Ud",
        "colab_type": "code",
        "colab": {}
      },
      "source": [
        "#jaccard_similarity_score(y_test,yhattree)"
      ],
      "execution_count": null,
      "outputs": []
    },
    {
      "cell_type": "code",
      "metadata": {
        "id": "ipo-2iAiO9Un",
        "colab_type": "code",
        "colab": {}
      },
      "source": [
        "#f1_score(y_test,yhattree, average='weighted')"
      ],
      "execution_count": null,
      "outputs": []
    },
    {
      "cell_type": "code",
      "metadata": {
        "id": "LSU1hlgJO9Uw",
        "colab_type": "code",
        "colab": {}
      },
      "source": [
        "df['DATE'] = pd.to_datetime(df['INCDATE']).dt.date\n",
        "df['YEAR'] = pd.DatetimeIndex(df['DATE']).year\n",
        "dfyears= df[['YEAR','SEVERITYCODE']]"
      ],
      "execution_count": 25,
      "outputs": []
    },
    {
      "cell_type": "markdown",
      "metadata": {
        "id": "fuU6UV073wYr",
        "colab_type": "text"
      },
      "source": [
        "Build a view of incidents over the years"
      ]
    },
    {
      "cell_type": "code",
      "metadata": {
        "id": "q-dx6C9EWLWo",
        "colab_type": "code",
        "colab": {}
      },
      "source": [
        "output_years= sqldf(\"select YEAR, count(SEVERITYCODE) from dfyears group by YEAR \")\n"
      ],
      "execution_count": 26,
      "outputs": []
    },
    {
      "cell_type": "code",
      "metadata": {
        "id": "2USdKSj-X2WX",
        "colab_type": "code",
        "colab": {}
      },
      "source": [
        "output_years.set_index(output_years['YEAR'],inplace=True)"
      ],
      "execution_count": 27,
      "outputs": []
    },
    {
      "cell_type": "code",
      "metadata": {
        "id": "9SSbI7YjamCS",
        "colab_type": "code",
        "colab": {
          "base_uri": "https://localhost:8080/",
          "height": 614
        },
        "outputId": "079d3ae2-9384-472f-9c83-d4193370f43a"
      },
      "source": [
        "output_years.drop(columns={'YEAR'}, inplace=True)\n",
        "output_years.rename(columns={'count(SEVERITYCODE)':'colissions'},inplace=True)\n",
        "\n",
        "output_years"
      ],
      "execution_count": 28,
      "outputs": [
        {
          "output_type": "execute_result",
          "data": {
            "text/html": [
              "<div>\n",
              "<style scoped>\n",
              "    .dataframe tbody tr th:only-of-type {\n",
              "        vertical-align: middle;\n",
              "    }\n",
              "\n",
              "    .dataframe tbody tr th {\n",
              "        vertical-align: top;\n",
              "    }\n",
              "\n",
              "    .dataframe thead th {\n",
              "        text-align: right;\n",
              "    }\n",
              "</style>\n",
              "<table border=\"1\" class=\"dataframe\">\n",
              "  <thead>\n",
              "    <tr style=\"text-align: right;\">\n",
              "      <th></th>\n",
              "      <th>colissions</th>\n",
              "    </tr>\n",
              "    <tr>\n",
              "      <th>YEAR</th>\n",
              "      <th></th>\n",
              "    </tr>\n",
              "  </thead>\n",
              "  <tbody>\n",
              "    <tr>\n",
              "      <th>2004</th>\n",
              "      <td>11865</td>\n",
              "    </tr>\n",
              "    <tr>\n",
              "      <th>2005</th>\n",
              "      <td>15115</td>\n",
              "    </tr>\n",
              "    <tr>\n",
              "      <th>2006</th>\n",
              "      <td>15188</td>\n",
              "    </tr>\n",
              "    <tr>\n",
              "      <th>2007</th>\n",
              "      <td>14456</td>\n",
              "    </tr>\n",
              "    <tr>\n",
              "      <th>2008</th>\n",
              "      <td>13660</td>\n",
              "    </tr>\n",
              "    <tr>\n",
              "      <th>2009</th>\n",
              "      <td>11734</td>\n",
              "    </tr>\n",
              "    <tr>\n",
              "      <th>2010</th>\n",
              "      <td>10808</td>\n",
              "    </tr>\n",
              "    <tr>\n",
              "      <th>2011</th>\n",
              "      <td>10919</td>\n",
              "    </tr>\n",
              "    <tr>\n",
              "      <th>2012</th>\n",
              "      <td>10907</td>\n",
              "    </tr>\n",
              "    <tr>\n",
              "      <th>2013</th>\n",
              "      <td>10577</td>\n",
              "    </tr>\n",
              "    <tr>\n",
              "      <th>2014</th>\n",
              "      <td>11841</td>\n",
              "    </tr>\n",
              "    <tr>\n",
              "      <th>2015</th>\n",
              "      <td>12995</td>\n",
              "    </tr>\n",
              "    <tr>\n",
              "      <th>2016</th>\n",
              "      <td>11659</td>\n",
              "    </tr>\n",
              "    <tr>\n",
              "      <th>2017</th>\n",
              "      <td>10873</td>\n",
              "    </tr>\n",
              "    <tr>\n",
              "      <th>2018</th>\n",
              "      <td>10419</td>\n",
              "    </tr>\n",
              "    <tr>\n",
              "      <th>2019</th>\n",
              "      <td>9412</td>\n",
              "    </tr>\n",
              "    <tr>\n",
              "      <th>2020</th>\n",
              "      <td>2245</td>\n",
              "    </tr>\n",
              "  </tbody>\n",
              "</table>\n",
              "</div>"
            ],
            "text/plain": [
              "      colissions\n",
              "YEAR            \n",
              "2004       11865\n",
              "2005       15115\n",
              "2006       15188\n",
              "2007       14456\n",
              "2008       13660\n",
              "2009       11734\n",
              "2010       10808\n",
              "2011       10919\n",
              "2012       10907\n",
              "2013       10577\n",
              "2014       11841\n",
              "2015       12995\n",
              "2016       11659\n",
              "2017       10873\n",
              "2018       10419\n",
              "2019        9412\n",
              "2020        2245"
            ]
          },
          "metadata": {
            "tags": []
          },
          "execution_count": 28
        }
      ]
    },
    {
      "cell_type": "code",
      "metadata": {
        "id": "PVaLQnHcbvax",
        "colab_type": "code",
        "colab": {
          "base_uri": "https://localhost:8080/",
          "height": 298
        },
        "outputId": "b8d350a9-50f5-4d4e-c3ae-46ee9b85be79"
      },
      "source": [
        "output_years.plot.line()"
      ],
      "execution_count": 29,
      "outputs": [
        {
          "output_type": "execute_result",
          "data": {
            "text/plain": [
              "<matplotlib.axes._subplots.AxesSubplot at 0x7fcd14a1c860>"
            ]
          },
          "metadata": {
            "tags": []
          },
          "execution_count": 29
        },
        {
          "output_type": "display_data",
          "data": {
            "image/png": "[encoded data removed]",
            "text/plain": [
              "<Figure size 432x288 with 1 Axes>"
            ]
          },
          "metadata": {
            "tags": [],
            "needs_background": "light"
          }
        }
      ]
    }
  ]
}